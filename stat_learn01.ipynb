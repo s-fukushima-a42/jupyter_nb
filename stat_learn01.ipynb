{
 "cells": [
  {
   "cell_type": "code",
   "execution_count": 1,
   "metadata": {
    "collapsed": true,
    "slideshow": {
     "slide_type": "-"
    }
   },
   "outputs": [],
   "source": [
    "#設定セル\n",
    "%matplotlib inline\n",
    "import matplotlib.pyplot as plt\n",
    "import pandas as pd\n",
    "import numpy as np\n",
    "plt.rcParams['font.family'] = 'VL-Gothic-Regular'"
   ]
  },
  {
   "cell_type": "markdown",
   "metadata": {
    "slideshow": {
     "slide_type": "slide"
    }
   },
   "source": [
    "# 統計学　赤本（統計学入門、東京大学出版会）の勉強\n",
    "## 0. 序文\n",
    "### 統計学とは\n",
    "- 数字データをどのように分析し、__どのような判断__をくだしたらよいかを論ずる学問"
   ]
  },
  {
   "cell_type": "markdown",
   "metadata": {
    "collapsed": true,
    "slideshow": {
     "slide_type": "slide"
    }
   },
   "source": [
    "# 第１章　統計学の基礎\n",
    "## 1.1 統計学とは\n",
    "### 1.1.1 統計学的なものの見方\n",
    "- 統計学 Statistcs\n",
    "\n",
    "\n",
    "1. ゲームのテーブルから起った確率論\n",
    "2. 常備軍や国家財政上の必要から起った国家状態の統計\n",
    "3. 古代地中海貿易での，難破事故や海上略奪に対する海上保険の計算\n",
    "4. 17世紀のペスト禍を機とする近代死亡率表の研究\n",
    "5. 天文観測で生じる観測誤差の理論\n",
    "6. 生物等で生じる諸量の相関関係の理論\n",
    "7. 農学で実験を計画するための理論\n",
    "8. 経済学や気象学における時系列の理論\n",
    "9. 心理学における要因分析やランキングの理論\n",
    "10. 社会学における$x^2$（カイ二乗）統計量の方法\n",
    "\n",
    "\n",
    "- 現象の規則性\n",
    "\n",
    "\n",
    "- すべてを丹念に調べ，規則性から法則を見出す -> 記述統計  \n",
    "- 一部を観察し，そこから論理性のある推測で全体の法則性を発見する -> 推測統計  \n",
    "- 全数調査 例えば、国勢調査\n",
    "- Statistics State（国家）\n",
    "\n"
   ]
  },
  {
   "cell_type": "markdown",
   "metadata": {
    "collapsed": true,
    "slideshow": {
     "slide_type": "slide"
    }
   },
   "source": [
    "## 1.2 統計データと統計手法\n",
    "### 1.2.1 尺度水準，質的データと量的データ\n",
    "#### 尺度水準\n",
    "- 名義尺度\n",
    "- 順序尺度\n",
    "- 間隔尺度\n",
    "- 比率尺度\n",
    "#### 質的データ\n",
    "名義尺度＋順序尺度\n",
    "#### 量的データ\n",
    "間隔尺度＋比率尺度"
   ]
  },
  {
   "cell_type": "code",
   "execution_count": null,
   "metadata": {
    "collapsed": true
   },
   "outputs": [],
   "source": []
  }
 ],
 "metadata": {
  "celltoolbar": "Slideshow",
  "kernelspec": {
   "display_name": "Python 3",
   "language": "python",
   "name": "python3"
  },
  "language_info": {
   "codemirror_mode": {
    "name": "ipython",
    "version": 3
   },
   "file_extension": ".py",
   "mimetype": "text/x-python",
   "name": "python",
   "nbconvert_exporter": "python",
   "pygments_lexer": "ipython3",
   "version": "3.5.1"
  }
 },
 "nbformat": 4,
 "nbformat_minor": 0
}
